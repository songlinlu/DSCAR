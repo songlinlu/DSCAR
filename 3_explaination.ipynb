{
 "cells": [
  {
   "attachments": {},
   "cell_type": "markdown",
   "id": "1289b6a7",
   "metadata": {},
   "source": [
    " # SCS1 (iPSC vs Others) dataset as example."
   ]
  },
  {
   "attachments": {},
   "cell_type": "markdown",
   "id": "10fa73a5",
   "metadata": {
    "ExecuteTime": {
     "end_time": "2023-07-06T09:00:05.175954Z",
     "start_time": "2023-07-06T09:00:05.169485Z"
    }
   },
   "source": [
    "## import packages"
   ]
  },
  {
   "cell_type": "code",
   "execution_count": 1,
   "id": "fc0a924e",
   "metadata": {
    "ExecuteTime": {
     "end_time": "2023-07-07T05:56:43.941239Z",
     "start_time": "2023-07-07T05:56:37.072852Z"
    }
   },
   "outputs": [
    {
     "name": "stderr",
     "output_type": "stream",
     "text": [
      "2023-07-07 13:56:37.494886: I tensorflow/stream_executor/platform/default/dso_loader.cc:53] Successfully opened dynamic library libcudart.so.11.0\n",
      "2023-07-07 13:56:43.860052: I tensorflow/stream_executor/platform/default/dso_loader.cc:53] Successfully opened dynamic library libcuda.so.1\n",
      "2023-07-07 13:56:43.896208: I tensorflow/core/common_runtime/gpu/gpu_device.cc:1733] Found device 0 with properties: \n",
      "pciBusID: 0000:05:00.0 name: NVIDIA GeForce GTX TITAN X computeCapability: 5.2\n",
      "coreClock: 1.076GHz coreCount: 24 deviceMemorySize: 11.92GiB deviceMemoryBandwidth: 313.37GiB/s\n",
      "2023-07-07 13:56:43.896234: I tensorflow/stream_executor/platform/default/dso_loader.cc:53] Successfully opened dynamic library libcudart.so.11.0\n",
      "2023-07-07 13:56:43.898947: I tensorflow/stream_executor/platform/default/dso_loader.cc:53] Successfully opened dynamic library libcublas.so.11\n",
      "2023-07-07 13:56:43.898997: I tensorflow/stream_executor/platform/default/dso_loader.cc:53] Successfully opened dynamic library libcublasLt.so.11\n",
      "2023-07-07 13:56:43.899897: I tensorflow/stream_executor/platform/default/dso_loader.cc:53] Successfully opened dynamic library libcufft.so.10\n",
      "2023-07-07 13:56:43.900130: I tensorflow/stream_executor/platform/default/dso_loader.cc:53] Successfully opened dynamic library libcurand.so.10\n",
      "2023-07-07 13:56:43.900989: I tensorflow/stream_executor/platform/default/dso_loader.cc:53] Successfully opened dynamic library libcusolver.so.11\n",
      "2023-07-07 13:56:43.901683: I tensorflow/stream_executor/platform/default/dso_loader.cc:53] Successfully opened dynamic library libcusparse.so.11\n",
      "2023-07-07 13:56:43.901832: I tensorflow/stream_executor/platform/default/dso_loader.cc:53] Successfully opened dynamic library libcudnn.so.8\n",
      "2023-07-07 13:56:43.903468: I tensorflow/core/common_runtime/gpu/gpu_device.cc:1871] Adding visible gpu devices: 0\n"
     ]
    },
    {
     "data": {
      "image/png": "[encoded data removed]",
      "text/plain": [
       "<Figure size 432x72 with 1 Axes>"
      ]
     },
     "metadata": {
      "needs_background": "light"
     },
     "output_type": "display_data"
    }
   ],
   "source": [
    "import os\n",
    "import pandas as pd\n",
    "import numpy as np\n",
    "import warnings\n",
    "warnings.filterwarnings(\"ignore\")\n",
    "\n",
    "import tensorflow as tf\n",
    "from sklearn.model_selection import KFold, StratifiedKFold\n",
    "from sklearn.metrics import accuracy_score\n",
    "import matplotlib.pyplot as plt\n",
    "import seaborn as sns\n",
    "\n",
    "\n",
    "from aggmap import AggMap\n",
    "from joblib import load,dump\n",
    "\n",
    "from utils.dscarnet import dual_dscarnet\n",
    "from utils.PCA_tool import PCA_transform\n",
    "np.random.seed(888)\n",
    "\n",
    "color = sns.color_palette(\"rainbow_r\", 6) \n",
    "sns.palplot(color)\n",
    "\n",
    "\n",
    "os.environ[\"CUDA_VISIBLE_DEVICES\"]=\"0\"\n",
    "physical_gpus = tf.config.list_physical_devices('GPU')\n",
    "tf.config.experimental.set_memory_growth(physical_gpus[0], True)\n"
   ]
  },
  {
   "attachments": {},
   "cell_type": "markdown",
   "id": "721bb694",
   "metadata": {},
   "source": [
    "## load data"
   ]
  },
  {
   "cell_type": "code",
   "execution_count": 2,
   "id": "e9e241d3",
   "metadata": {
    "ExecuteTime": {
     "end_time": "2023-07-07T05:56:44.778058Z",
     "start_time": "2023-07-07T05:56:43.944945Z"
    }
   },
   "outputs": [
    {
     "data": {
      "text/plain": [
       "array([[1, 0],\n",
       "       [1, 0],\n",
       "       [1, 0],\n",
       "       ...,\n",
       "       [0, 1],\n",
       "       [0, 1],\n",
       "       [0, 1]], dtype=uint8)"
      ]
     },
     "execution_count": 2,
     "metadata": {},
     "output_type": "execute_result"
    }
   ],
   "source": [
    "df = pd.read_csv('dataset/SCS.csv').iloc[:,1:]\n",
    "Y = pd.get_dummies(df['label']).values\n",
    "Y"
   ]
  },
  {
   "cell_type": "code",
   "execution_count": 3,
   "id": "2dac5c86",
   "metadata": {
    "ExecuteTime": {
     "end_time": "2023-07-07T05:56:44.908439Z",
     "start_time": "2023-07-07T05:56:44.779312Z"
    }
   },
   "outputs": [],
   "source": [
    "mp_sar = load('mp_example/scs_sar.mp')\n",
    "X1 = load('mp_example/scs_x1.data')"
   ]
  },
  {
   "attachments": {},
   "cell_type": "markdown",
   "id": "94cff556",
   "metadata": {},
   "source": [
    "## train a single path model"
   ]
  },
  {
   "cell_type": "code",
   "execution_count": 4,
   "id": "6021e994",
   "metadata": {
    "ExecuteTime": {
     "end_time": "2023-07-07T05:56:44.912448Z",
     "start_time": "2023-07-07T05:56:44.910204Z"
    }
   },
   "outputs": [],
   "source": [
    "from utils.dscarnet import single_dscarnet"
   ]
  },
  {
   "cell_type": "code",
   "execution_count": 5,
   "id": "c7f781d3",
   "metadata": {
    "ExecuteTime": {
     "end_time": "2023-07-07T05:57:43.736587Z",
     "start_time": "2023-07-07T05:56:44.915324Z"
    },
    "scrolled": true
   },
   "outputs": [
    {
     "name": "stderr",
     "output_type": "stream",
     "text": [
      "2023-07-07 13:56:45.022320: I tensorflow/core/platform/cpu_feature_guard.cc:142] This TensorFlow binary is optimized with oneAPI Deep Neural Network Library (oneDNN) to use the following CPU instructions in performance-critical operations:  AVX2 FMA\n",
      "To enable them in other operations, rebuild TensorFlow with the appropriate compiler flags.\n",
      "2023-07-07 13:56:45.023910: I tensorflow/core/common_runtime/gpu/gpu_device.cc:1733] Found device 0 with properties: \n",
      "pciBusID: 0000:05:00.0 name: NVIDIA GeForce GTX TITAN X computeCapability: 5.2\n",
      "coreClock: 1.076GHz coreCount: 24 deviceMemorySize: 11.92GiB deviceMemoryBandwidth: 313.37GiB/s\n",
      "2023-07-07 13:56:45.025517: I tensorflow/core/common_runtime/gpu/gpu_device.cc:1871] Adding visible gpu devices: 0\n",
      "2023-07-07 13:56:45.025569: I tensorflow/stream_executor/platform/default/dso_loader.cc:53] Successfully opened dynamic library libcudart.so.11.0\n",
      "2023-07-07 13:56:45.492635: I tensorflow/core/common_runtime/gpu/gpu_device.cc:1258] Device interconnect StreamExecutor with strength 1 edge matrix:\n",
      "2023-07-07 13:56:45.492662: I tensorflow/core/common_runtime/gpu/gpu_device.cc:1264]      0 \n",
      "2023-07-07 13:56:45.492669: I tensorflow/core/common_runtime/gpu/gpu_device.cc:1277] 0:   N \n",
      "2023-07-07 13:56:45.495089: I tensorflow/core/common_runtime/gpu/gpu_device.cc:1418] Created TensorFlow device (/job:localhost/replica:0/task:0/device:GPU:0 with 8781 MB memory) -> physical GPU (device: 0, name: NVIDIA GeForce GTX TITAN X, pci bus id: 0000:05:00.0, compute capability: 5.2)\n",
      "2023-07-07 13:56:45.738974: I tensorflow/compiler/mlir/mlir_graph_optimization_pass.cc:176] None of the MLIR Optimization Passes are enabled (registered 2)\n",
      "2023-07-07 13:56:45.756519: I tensorflow/core/platform/profile_utils/cpu_utils.cc:114] CPU Frequency: 3498165000 Hz\n"
     ]
    },
    {
     "name": "stdout",
     "output_type": "stream",
     "text": [
      "Epoch 1/30\n"
     ]
    },
    {
     "name": "stderr",
     "output_type": "stream",
     "text": [
      "2023-07-07 13:56:46.799590: I tensorflow/stream_executor/platform/default/dso_loader.cc:53] Successfully opened dynamic library libcudnn.so.8\n",
      "2023-07-07 13:56:47.143575: I tensorflow/stream_executor/cuda/cuda_dnn.cc:359] Loaded cuDNN version 8400\n",
      "2023-07-07 13:56:47.662578: I tensorflow/stream_executor/platform/default/dso_loader.cc:53] Successfully opened dynamic library libcublas.so.11\n",
      "2023-07-07 13:56:47.662985: I tensorflow/stream_executor/platform/default/dso_loader.cc:53] Successfully opened dynamic library libcublasLt.so.11\n"
     ]
    },
    {
     "name": "stdout",
     "output_type": "stream",
     "text": [
      "55/55 [==============================] - 5s 44ms/step - loss: 7.0111 - accuracy: 0.6148 - val_loss: 6.1600 - val_accuracy: 0.6222\n",
      "Epoch 2/30\n",
      "55/55 [==============================] - 2s 31ms/step - loss: 5.6010 - accuracy: 0.6220 - val_loss: 5.0670 - val_accuracy: 0.6222\n",
      "Epoch 3/30\n",
      "55/55 [==============================] - 2s 31ms/step - loss: 4.6132 - accuracy: 0.6220 - val_loss: 4.1762 - val_accuracy: 0.6222\n",
      "Epoch 4/30\n",
      "55/55 [==============================] - 2s 31ms/step - loss: 3.8340 - accuracy: 0.6717 - val_loss: 3.5194 - val_accuracy: 0.7595\n",
      "Epoch 5/30\n",
      "55/55 [==============================] - 2s 31ms/step - loss: 3.2415 - accuracy: 0.8619 - val_loss: 3.0878 - val_accuracy: 0.8541\n",
      "Epoch 6/30\n",
      "55/55 [==============================] - 2s 31ms/step - loss: 2.8032 - accuracy: 0.8790 - val_loss: 2.5912 - val_accuracy: 0.9219\n",
      "Epoch 7/30\n",
      "55/55 [==============================] - 2s 31ms/step - loss: 2.4269 - accuracy: 0.9081 - val_loss: 2.2545 - val_accuracy: 0.9379\n",
      "Epoch 8/30\n",
      "55/55 [==============================] - 2s 32ms/step - loss: 2.1145 - accuracy: 0.9218 - val_loss: 1.9658 - val_accuracy: 0.9265\n",
      "Epoch 9/30\n",
      "55/55 [==============================] - 2s 33ms/step - loss: 1.8613 - accuracy: 0.9329 - val_loss: 1.7565 - val_accuracy: 0.9259\n",
      "Epoch 10/30\n",
      "55/55 [==============================] - 2s 34ms/step - loss: 1.6444 - accuracy: 0.9480 - val_loss: 1.5434 - val_accuracy: 0.9470\n",
      "Epoch 11/30\n",
      "55/55 [==============================] - 2s 34ms/step - loss: 1.4852 - accuracy: 0.9422 - val_loss: 1.3945 - val_accuracy: 0.9516\n",
      "Epoch 12/30\n",
      "55/55 [==============================] - 2s 34ms/step - loss: 1.3382 - accuracy: 0.9487 - val_loss: 1.2786 - val_accuracy: 0.9425\n",
      "Epoch 13/30\n",
      "55/55 [==============================] - 2s 34ms/step - loss: 1.2200 - accuracy: 0.9484 - val_loss: 1.1503 - val_accuracy: 0.9601\n",
      "Epoch 14/30\n",
      "55/55 [==============================] - 2s 34ms/step - loss: 1.1284 - accuracy: 0.9444 - val_loss: 1.1156 - val_accuracy: 0.9248\n",
      "Epoch 15/30\n",
      "55/55 [==============================] - 2s 34ms/step - loss: 1.0266 - accuracy: 0.9508 - val_loss: 0.9682 - val_accuracy: 0.9613\n",
      "Epoch 16/30\n",
      "55/55 [==============================] - 2s 34ms/step - loss: 0.9438 - accuracy: 0.9543 - val_loss: 0.8975 - val_accuracy: 0.9607\n",
      "Epoch 17/30\n",
      "55/55 [==============================] - 2s 34ms/step - loss: 0.8624 - accuracy: 0.9598 - val_loss: 0.8364 - val_accuracy: 0.9510\n",
      "Epoch 18/30\n",
      "55/55 [==============================] - 2s 34ms/step - loss: 0.7991 - accuracy: 0.9610 - val_loss: 0.7871 - val_accuracy: 0.9538\n",
      "Epoch 19/30\n",
      "55/55 [==============================] - 2s 34ms/step - loss: 0.7538 - accuracy: 0.9524 - val_loss: 0.7275 - val_accuracy: 0.9584\n",
      "Epoch 20/30\n",
      "55/55 [==============================] - 2s 34ms/step - loss: 0.7099 - accuracy: 0.9534 - val_loss: 0.6656 - val_accuracy: 0.9641\n",
      "Epoch 21/30\n",
      "55/55 [==============================] - 2s 34ms/step - loss: 0.6467 - accuracy: 0.9621 - val_loss: 0.6222 - val_accuracy: 0.9652\n",
      "Epoch 22/30\n",
      "55/55 [==============================] - 2s 34ms/step - loss: 0.6069 - accuracy: 0.9624 - val_loss: 0.5747 - val_accuracy: 0.9647\n",
      "Epoch 23/30\n",
      "55/55 [==============================] - 2s 34ms/step - loss: 0.5604 - accuracy: 0.9632 - val_loss: 0.5519 - val_accuracy: 0.9652\n",
      "Epoch 24/30\n",
      "55/55 [==============================] - 2s 34ms/step - loss: 0.5224 - accuracy: 0.9681 - val_loss: 0.5054 - val_accuracy: 0.9675\n",
      "Epoch 25/30\n",
      "55/55 [==============================] - 2s 34ms/step - loss: 0.5035 - accuracy: 0.9605 - val_loss: 0.4798 - val_accuracy: 0.9652\n",
      "Epoch 26/30\n",
      "55/55 [==============================] - 2s 34ms/step - loss: 0.4586 - accuracy: 0.9689 - val_loss: 0.4588 - val_accuracy: 0.9607\n",
      "Epoch 27/30\n",
      "55/55 [==============================] - 2s 34ms/step - loss: 0.4559 - accuracy: 0.9618 - val_loss: 0.4305 - val_accuracy: 0.9675\n",
      "Epoch 28/30\n",
      "55/55 [==============================] - 2s 34ms/step - loss: 0.4116 - accuracy: 0.9694 - val_loss: 0.4090 - val_accuracy: 0.9635\n",
      "Epoch 29/30\n",
      "55/55 [==============================] - 2s 34ms/step - loss: 0.3929 - accuracy: 0.9675 - val_loss: 0.3822 - val_accuracy: 0.9664\n",
      "Epoch 30/30\n",
      "55/55 [==============================] - 2s 34ms/step - loss: 0.3750 - accuracy: 0.9688 - val_loss: 0.3780 - val_accuracy: 0.9613\n"
     ]
    }
   ],
   "source": [
    "outer = StratifiedKFold(n_splits = 5, shuffle = True, random_state = 8)\n",
    "outer_idx = list(outer.split(X1,df['label']))\n",
    "for i, idx in enumerate(outer_idx):\n",
    "    \n",
    "    train_idx, valid_idx = idx\n",
    "\n",
    "    validY = Y[valid_idx]\n",
    "    validX = X1[valid_idx]\n",
    "\n",
    "    trainY = Y[train_idx]\n",
    "    trainX = X1[train_idx]\n",
    "    \n",
    "    model = single_dscarnet(X1.shape[1:])\n",
    "    opt = tf.keras.optimizers.Adam(lr=1e-4, beta_1=0.9, beta_2=0.999, epsilon=1e-08, decay=0.0) #\n",
    "    model.compile(optimizer = opt, loss = 'categorical_crossentropy',metrics=['accuracy'])\n",
    "\n",
    "\n",
    "    early_stopping_cb = tf.keras.callbacks.EarlyStopping(monitor=\"val_accuracy\", patience=10,#for example\n",
    "                                                      restore_best_weights=True)\n",
    "\n",
    "    model.fit(trainX, trainY,\n",
    "                              batch_size=128, \n",
    "                              epochs= 30,#for example \n",
    "                                verbose= 1, shuffle = True, \n",
    "                              validation_data = (validX, validY), \n",
    "                               callbacks=[early_stopping_cb],)\n",
    "    break#for example"
   ]
  },
  {
   "attachments": {},
   "cell_type": "markdown",
   "id": "8fb58d0b",
   "metadata": {},
   "source": [
    "## explaination"
   ]
  },
  {
   "cell_type": "code",
   "execution_count": 6,
   "id": "23456f2c",
   "metadata": {
    "ExecuteTime": {
     "end_time": "2023-07-07T05:57:43.792482Z",
     "start_time": "2023-07-07T05:57:43.739831Z"
    }
   },
   "outputs": [],
   "source": [
    "from utils import explainer"
   ]
  },
  {
   "cell_type": "code",
   "execution_count": 7,
   "id": "f4b08195",
   "metadata": {
    "ExecuteTime": {
     "end_time": "2023-07-07T06:14:56.697998Z",
     "start_time": "2023-07-07T05:57:43.795347Z"
    },
    "scrolled": false
   },
   "outputs": [
    {
     "name": "stdout",
     "output_type": "stream",
     "text": [
      "calculating feature importance for column 0 ...\n"
     ]
    },
    {
     "name": "stderr",
     "output_type": "stream",
     "text": [
      "  4%|4         | 20/462 [00:01<00:26, 16.52it/s]2023-07-07 13:57:53.808319: W tensorflow/core/framework/cpu_allocator_impl.cc:80] Allocation of 2451540168 exceeds 10% of free system memory.\n",
      "  8%|8         | 39/462 [00:29<01:34,  4.47it/s]2023-07-07 13:58:21.136748: W tensorflow/core/framework/cpu_allocator_impl.cc:80] Allocation of 2334800160 exceeds 10% of free system memory.\n",
      " 13%|#2        | 59/462 [00:56<01:29,  4.49it/s]2023-07-07 13:58:43.812034: W tensorflow/core/framework/cpu_allocator_impl.cc:80] Allocation of 2334800160 exceeds 10% of free system memory.\n",
      " 17%|#7        | 79/462 [01:18<01:12,  5.27it/s]2023-07-07 13:59:08.786403: W tensorflow/core/framework/cpu_allocator_impl.cc:80] Allocation of 2334800160 exceeds 10% of free system memory.\n",
      " 21%|##1       | 99/462 [01:43<01:15,  4.84it/s]2023-07-07 13:59:31.211897: W tensorflow/core/framework/cpu_allocator_impl.cc:80] Allocation of 2334800160 exceeds 10% of free system memory.\n",
      "100%|##########| 462/462 [08:42<00:00,  1.13s/it]\n"
     ]
    },
    {
     "name": "stdout",
     "output_type": "stream",
     "text": [
      "calculating feature importance for column 1 ...\n"
     ]
    },
    {
     "name": "stderr",
     "output_type": "stream",
     "text": [
      "100%|##########| 462/462 [08:28<00:00,  1.10s/it]\n"
     ]
    }
   ],
   "source": [
    "#example, for more accurate result, pleas use 5-FCV model average S values\n",
    "si_rank, _ = explainer.GlobalIMP(model, \n",
    "                                 mp=mp_sar, \n",
    "                                 X=trainX, Y=trainY,# use training set for explaination\n",
    "                                    )"
   ]
  },
  {
   "cell_type": "code",
   "execution_count": 9,
   "id": "4a749a34",
   "metadata": {
    "ExecuteTime": {
     "end_time": "2023-07-07T06:19:52.679393Z",
     "start_time": "2023-07-07T06:19:52.652287Z"
    }
   },
   "outputs": [
    {
     "data": {
      "text/html": [
       "<div>\n",
       "<style scoped>\n",
       "    .dataframe tbody tr th:only-of-type {\n",
       "        vertical-align: middle;\n",
       "    }\n",
       "\n",
       "    .dataframe tbody tr th {\n",
       "        vertical-align: top;\n",
       "    }\n",
       "\n",
       "    .dataframe thead th {\n",
       "        text-align: right;\n",
       "    }\n",
       "</style>\n",
       "<table border=\"1\" class=\"dataframe\">\n",
       "  <thead>\n",
       "    <tr style=\"text-align: right;\">\n",
       "      <th></th>\n",
       "      <th>x</th>\n",
       "      <th>y</th>\n",
       "      <th>v</th>\n",
       "      <th>Subtypes</th>\n",
       "      <th>colors</th>\n",
       "      <th>col_0_importance</th>\n",
       "      <th>col_1_importance</th>\n",
       "      <th>class average</th>\n",
       "    </tr>\n",
       "  </thead>\n",
       "  <tbody>\n",
       "    <tr>\n",
       "      <th>0</th>\n",
       "      <td>0</td>\n",
       "      <td>0</td>\n",
       "      <td>330.186</td>\n",
       "      <td>cluster_08</td>\n",
       "      <td>#b900ff</td>\n",
       "      <td>-0.301230</td>\n",
       "      <td>-0.301230</td>\n",
       "      <td>-0.301230</td>\n",
       "    </tr>\n",
       "    <tr>\n",
       "      <th>1</th>\n",
       "      <td>1</td>\n",
       "      <td>0</td>\n",
       "      <td>322.902</td>\n",
       "      <td>cluster_08</td>\n",
       "      <td>#b900ff</td>\n",
       "      <td>-0.450909</td>\n",
       "      <td>-0.450909</td>\n",
       "      <td>-0.450909</td>\n",
       "    </tr>\n",
       "    <tr>\n",
       "      <th>2</th>\n",
       "      <td>2</td>\n",
       "      <td>0</td>\n",
       "      <td>326.545</td>\n",
       "      <td>cluster_08</td>\n",
       "      <td>#b900ff</td>\n",
       "      <td>-0.747267</td>\n",
       "      <td>-0.747266</td>\n",
       "      <td>-0.747266</td>\n",
       "    </tr>\n",
       "    <tr>\n",
       "      <th>3</th>\n",
       "      <td>3</td>\n",
       "      <td>0</td>\n",
       "      <td>341.099</td>\n",
       "      <td>cluster_08</td>\n",
       "      <td>#b900ff</td>\n",
       "      <td>-0.835442</td>\n",
       "      <td>-0.835442</td>\n",
       "      <td>-0.835442</td>\n",
       "    </tr>\n",
       "    <tr>\n",
       "      <th>4</th>\n",
       "      <td>4</td>\n",
       "      <td>0</td>\n",
       "      <td>417.131</td>\n",
       "      <td>cluster_05</td>\n",
       "      <td>#00fff6</td>\n",
       "      <td>-0.254964</td>\n",
       "      <td>-0.254964</td>\n",
       "      <td>-0.254964</td>\n",
       "    </tr>\n",
       "    <tr>\n",
       "      <th>...</th>\n",
       "      <td>...</td>\n",
       "      <td>...</td>\n",
       "      <td>...</td>\n",
       "      <td>...</td>\n",
       "      <td>...</td>\n",
       "      <td>...</td>\n",
       "      <td>...</td>\n",
       "      <td>...</td>\n",
       "    </tr>\n",
       "    <tr>\n",
       "      <th>457</th>\n",
       "      <td>16</td>\n",
       "      <td>21</td>\n",
       "      <td>NaN-457</td>\n",
       "      <td>NaN</td>\n",
       "      <td>#000000</td>\n",
       "      <td>-0.321944</td>\n",
       "      <td>-0.321944</td>\n",
       "      <td>-0.321944</td>\n",
       "    </tr>\n",
       "    <tr>\n",
       "      <th>458</th>\n",
       "      <td>17</td>\n",
       "      <td>21</td>\n",
       "      <td>NaN-458</td>\n",
       "      <td>NaN</td>\n",
       "      <td>#000000</td>\n",
       "      <td>-0.321944</td>\n",
       "      <td>-0.321944</td>\n",
       "      <td>-0.321944</td>\n",
       "    </tr>\n",
       "    <tr>\n",
       "      <th>459</th>\n",
       "      <td>18</td>\n",
       "      <td>21</td>\n",
       "      <td>NaN-459</td>\n",
       "      <td>NaN</td>\n",
       "      <td>#000000</td>\n",
       "      <td>-0.321944</td>\n",
       "      <td>-0.321944</td>\n",
       "      <td>-0.321944</td>\n",
       "    </tr>\n",
       "    <tr>\n",
       "      <th>460</th>\n",
       "      <td>19</td>\n",
       "      <td>21</td>\n",
       "      <td>NaN-460</td>\n",
       "      <td>NaN</td>\n",
       "      <td>#000000</td>\n",
       "      <td>-0.321944</td>\n",
       "      <td>-0.321944</td>\n",
       "      <td>-0.321944</td>\n",
       "    </tr>\n",
       "    <tr>\n",
       "      <th>461</th>\n",
       "      <td>20</td>\n",
       "      <td>21</td>\n",
       "      <td>NaN-461</td>\n",
       "      <td>NaN</td>\n",
       "      <td>#000000</td>\n",
       "      <td>-0.321944</td>\n",
       "      <td>-0.321944</td>\n",
       "      <td>-0.321944</td>\n",
       "    </tr>\n",
       "  </tbody>\n",
       "</table>\n",
       "<p>462 rows × 8 columns</p>\n",
       "</div>"
      ],
      "text/plain": [
       "      x   y        v    Subtypes   colors  col_0_importance  col_1_importance  \\\n",
       "0     0   0  330.186  cluster_08  #b900ff         -0.301230         -0.301230   \n",
       "1     1   0  322.902  cluster_08  #b900ff         -0.450909         -0.450909   \n",
       "2     2   0  326.545  cluster_08  #b900ff         -0.747267         -0.747266   \n",
       "3     3   0  341.099  cluster_08  #b900ff         -0.835442         -0.835442   \n",
       "4     4   0  417.131  cluster_05  #00fff6         -0.254964         -0.254964   \n",
       "..   ..  ..      ...         ...      ...               ...               ...   \n",
       "457  16  21  NaN-457         NaN  #000000         -0.321944         -0.321944   \n",
       "458  17  21  NaN-458         NaN  #000000         -0.321944         -0.321944   \n",
       "459  18  21  NaN-459         NaN  #000000         -0.321944         -0.321944   \n",
       "460  19  21  NaN-460         NaN  #000000         -0.321944         -0.321944   \n",
       "461  20  21  NaN-461         NaN  #000000         -0.321944         -0.321944   \n",
       "\n",
       "     class average  \n",
       "0        -0.301230  \n",
       "1        -0.450909  \n",
       "2        -0.747266  \n",
       "3        -0.835442  \n",
       "4        -0.254964  \n",
       "..             ...  \n",
       "457      -0.321944  \n",
       "458      -0.321944  \n",
       "459      -0.321944  \n",
       "460      -0.321944  \n",
       "461      -0.321944  \n",
       "\n",
       "[462 rows x 8 columns]"
      ]
     },
     "execution_count": 9,
     "metadata": {},
     "output_type": "execute_result"
    }
   ],
   "source": [
    "si_rank['class average'] = si_rank[['col_0_importance','col_1_importance']].mean(axis=1)\n",
    "si_rank"
   ]
  },
  {
   "cell_type": "code",
   "execution_count": 12,
   "id": "e0ded48d",
   "metadata": {
    "ExecuteTime": {
     "end_time": "2023-07-07T06:21:50.798233Z",
     "start_time": "2023-07-07T06:21:50.776195Z"
    }
   },
   "outputs": [
    {
     "data": {
      "text/html": [
       "<div>\n",
       "<style scoped>\n",
       "    .dataframe tbody tr th:only-of-type {\n",
       "        vertical-align: middle;\n",
       "    }\n",
       "\n",
       "    .dataframe tbody tr th {\n",
       "        vertical-align: top;\n",
       "    }\n",
       "\n",
       "    .dataframe thead th {\n",
       "        text-align: right;\n",
       "    }\n",
       "</style>\n",
       "<table border=\"1\" class=\"dataframe\">\n",
       "  <thead>\n",
       "    <tr style=\"text-align: right;\">\n",
       "      <th></th>\n",
       "      <th>x</th>\n",
       "      <th>y</th>\n",
       "      <th>v</th>\n",
       "      <th>Subtypes</th>\n",
       "      <th>colors</th>\n",
       "      <th>col_0_importance</th>\n",
       "      <th>col_1_importance</th>\n",
       "      <th>class average</th>\n",
       "    </tr>\n",
       "  </thead>\n",
       "  <tbody>\n",
       "    <tr>\n",
       "      <th>47</th>\n",
       "      <td>5</td>\n",
       "      <td>2</td>\n",
       "      <td>746.361</td>\n",
       "      <td>cluster_08</td>\n",
       "      <td>#b900ff</td>\n",
       "      <td>5.693868</td>\n",
       "      <td>5.693868</td>\n",
       "      <td>5.693868</td>\n",
       "    </tr>\n",
       "    <tr>\n",
       "      <th>68</th>\n",
       "      <td>5</td>\n",
       "      <td>3</td>\n",
       "      <td>742.885</td>\n",
       "      <td>cluster_08</td>\n",
       "      <td>#b900ff</td>\n",
       "      <td>5.534274</td>\n",
       "      <td>5.534274</td>\n",
       "      <td>5.534274</td>\n",
       "    </tr>\n",
       "    <tr>\n",
       "      <th>340</th>\n",
       "      <td>4</td>\n",
       "      <td>16</td>\n",
       "      <td>634.433</td>\n",
       "      <td>cluster_05</td>\n",
       "      <td>#00fff6</td>\n",
       "      <td>5.030416</td>\n",
       "      <td>5.030416</td>\n",
       "      <td>5.030416</td>\n",
       "    </tr>\n",
       "    <tr>\n",
       "      <th>267</th>\n",
       "      <td>15</td>\n",
       "      <td>12</td>\n",
       "      <td>1117.34</td>\n",
       "      <td>cluster_09</td>\n",
       "      <td>#ff00ac</td>\n",
       "      <td>4.362708</td>\n",
       "      <td>4.362708</td>\n",
       "      <td>4.362708</td>\n",
       "    </tr>\n",
       "    <tr>\n",
       "      <th>287</th>\n",
       "      <td>14</td>\n",
       "      <td>13</td>\n",
       "      <td>1120.68</td>\n",
       "      <td>cluster_09</td>\n",
       "      <td>#ff00ac</td>\n",
       "      <td>3.838796</td>\n",
       "      <td>3.838796</td>\n",
       "      <td>3.838796</td>\n",
       "    </tr>\n",
       "    <tr>\n",
       "      <th>...</th>\n",
       "      <td>...</td>\n",
       "      <td>...</td>\n",
       "      <td>...</td>\n",
       "      <td>...</td>\n",
       "      <td>...</td>\n",
       "      <td>...</td>\n",
       "      <td>...</td>\n",
       "      <td>...</td>\n",
       "    </tr>\n",
       "    <tr>\n",
       "      <th>374</th>\n",
       "      <td>17</td>\n",
       "      <td>17</td>\n",
       "      <td>829.393</td>\n",
       "      <td>cluster_08</td>\n",
       "      <td>#b900ff</td>\n",
       "      <td>-0.980930</td>\n",
       "      <td>-0.980930</td>\n",
       "      <td>-0.980930</td>\n",
       "    </tr>\n",
       "    <tr>\n",
       "      <th>143</th>\n",
       "      <td>17</td>\n",
       "      <td>6</td>\n",
       "      <td>1010.04</td>\n",
       "      <td>cluster_06</td>\n",
       "      <td>#0074ff</td>\n",
       "      <td>-0.981769</td>\n",
       "      <td>-0.981769</td>\n",
       "      <td>-0.981769</td>\n",
       "    </tr>\n",
       "    <tr>\n",
       "      <th>115</th>\n",
       "      <td>10</td>\n",
       "      <td>5</td>\n",
       "      <td>1469.98</td>\n",
       "      <td>cluster_07</td>\n",
       "      <td>#2500ff</td>\n",
       "      <td>-0.983468</td>\n",
       "      <td>-0.983469</td>\n",
       "      <td>-0.983468</td>\n",
       "    </tr>\n",
       "    <tr>\n",
       "      <th>94</th>\n",
       "      <td>10</td>\n",
       "      <td>4</td>\n",
       "      <td>1354.03</td>\n",
       "      <td>cluster_07</td>\n",
       "      <td>#2500ff</td>\n",
       "      <td>-0.988121</td>\n",
       "      <td>-0.988121</td>\n",
       "      <td>-0.988121</td>\n",
       "    </tr>\n",
       "    <tr>\n",
       "      <th>183</th>\n",
       "      <td>15</td>\n",
       "      <td>8</td>\n",
       "      <td>1097.32</td>\n",
       "      <td>cluster_09</td>\n",
       "      <td>#ff00ac</td>\n",
       "      <td>-1.003871</td>\n",
       "      <td>-1.003871</td>\n",
       "      <td>-1.003871</td>\n",
       "    </tr>\n",
       "  </tbody>\n",
       "</table>\n",
       "<p>462 rows × 8 columns</p>\n",
       "</div>"
      ],
      "text/plain": [
       "      x   y        v    Subtypes   colors  col_0_importance  col_1_importance  \\\n",
       "47    5   2  746.361  cluster_08  #b900ff          5.693868          5.693868   \n",
       "68    5   3  742.885  cluster_08  #b900ff          5.534274          5.534274   \n",
       "340   4  16  634.433  cluster_05  #00fff6          5.030416          5.030416   \n",
       "267  15  12  1117.34  cluster_09  #ff00ac          4.362708          4.362708   \n",
       "287  14  13  1120.68  cluster_09  #ff00ac          3.838796          3.838796   \n",
       "..   ..  ..      ...         ...      ...               ...               ...   \n",
       "374  17  17  829.393  cluster_08  #b900ff         -0.980930         -0.980930   \n",
       "143  17   6  1010.04  cluster_06  #0074ff         -0.981769         -0.981769   \n",
       "115  10   5  1469.98  cluster_07  #2500ff         -0.983468         -0.983469   \n",
       "94   10   4  1354.03  cluster_07  #2500ff         -0.988121         -0.988121   \n",
       "183  15   8  1097.32  cluster_09  #ff00ac         -1.003871         -1.003871   \n",
       "\n",
       "     class average  \n",
       "47        5.693868  \n",
       "68        5.534274  \n",
       "340       5.030416  \n",
       "267       4.362708  \n",
       "287       3.838796  \n",
       "..             ...  \n",
       "374      -0.980930  \n",
       "143      -0.981769  \n",
       "115      -0.983468  \n",
       "94       -0.988121  \n",
       "183      -1.003871  \n",
       "\n",
       "[462 rows x 8 columns]"
      ]
     },
     "execution_count": 12,
     "metadata": {},
     "output_type": "execute_result"
    }
   ],
   "source": [
    "#example, for more accurate result, pleas use 5-FCV model average S values\n",
    "si_rank.sort_values(by = ['class average'],ascending=False)"
   ]
  },
  {
   "cell_type": "code",
   "execution_count": null,
   "id": "455e1719",
   "metadata": {},
   "outputs": [],
   "source": []
  }
 ],
 "metadata": {
  "kernelspec": {
   "display_name": "aggmap",
   "language": "python",
   "name": "aggmap"
  },
  "language_info": {
   "codemirror_mode": {
    "name": "ipython",
    "version": 3
   },
   "file_extension": ".py",
   "mimetype": "text/x-python",
   "name": "python",
   "nbconvert_exporter": "python",
   "pygments_lexer": "ipython3",
   "version": "3.7.13"
  },
  "toc": {
   "base_numbering": 1,
   "nav_menu": {},
   "number_sections": true,
   "sideBar": true,
   "skip_h1_title": false,
   "title_cell": "Table of Contents",
   "title_sidebar": "Contents",
   "toc_cell": false,
   "toc_position": {},
   "toc_section_display": true,
   "toc_window_display": false
  }
 },
 "nbformat": 4,
 "nbformat_minor": 5
}
