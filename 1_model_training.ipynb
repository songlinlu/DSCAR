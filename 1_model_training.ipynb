{
 "cells": [
  {
   "attachments": {},
   "cell_type": "markdown",
   "id": "df41c3a9",
   "metadata": {},
   "source": [
    " # SCS1 (iPSC vs Others) dataset as example."
   ]
  },
  {
   "attachments": {},
   "cell_type": "markdown",
   "id": "9fdc02a6",
   "metadata": {},
   "source": [
    "## import the packages"
   ]
  },
  {
   "cell_type": "code",
   "execution_count": 2,
   "id": "920bb188",
   "metadata": {
    "ExecuteTime": {
     "end_time": "2023-07-07T05:33:06.428594Z",
     "start_time": "2023-07-07T05:33:06.361302Z"
    }
   },
   "outputs": [
    {
     "data": {
      "image/png": "[encoded data removed]",
      "text/plain": [
       "<Figure size 432x72 with 1 Axes>"
      ]
     },
     "metadata": {
      "needs_background": "light"
     },
     "output_type": "display_data"
    }
   ],
   "source": [
    "import os\n",
    "import pandas as pd\n",
    "import numpy as np\n",
    "import warnings\n",
    "warnings.filterwarnings(\"ignore\")\n",
    "\n",
    "import tensorflow as tf\n",
    "from sklearn.model_selection import KFold, StratifiedKFold\n",
    "from sklearn.metrics import accuracy_score\n",
    "import matplotlib.pyplot as plt\n",
    "import seaborn as sns\n",
    "\n",
    "\n",
    "from aggmap import AggMap\n",
    "from joblib import load,dump\n",
    "\n",
    "from utils.dscarnet import dual_dscarnet\n",
    "from utils.PCA_tool import PCA_transform\n",
    "np.random.seed(888)\n",
    "\n",
    "color = sns.color_palette(\"rainbow_r\", 6) \n",
    "sns.palplot(color)\n",
    "\n",
    "\n",
    "os.environ[\"CUDA_VISIBLE_DEVICES\"]=\"0\"\n",
    "physical_gpus = tf.config.list_physical_devices('GPU')\n",
    "tf.config.experimental.set_memory_growth(physical_gpus[0], True)\n"
   ]
  },
  {
   "attachments": {},
   "cell_type": "markdown",
   "id": "477319df",
   "metadata": {},
   "source": [
    "## data processing"
   ]
  },
  {
   "cell_type": "code",
   "execution_count": 3,
   "id": "61d2a3a8",
   "metadata": {
    "ExecuteTime": {
     "end_time": "2023-07-07T05:33:08.810184Z",
     "start_time": "2023-07-07T05:33:08.295172Z"
    }
   },
   "outputs": [],
   "source": [
    "df = pd.read_csv('dataset/SCS.csv').iloc[:,1:]"
   ]
  },
  {
   "cell_type": "code",
   "execution_count": 4,
   "id": "33776682",
   "metadata": {
    "ExecuteTime": {
     "end_time": "2023-07-07T05:33:08.837026Z",
     "start_time": "2023-07-07T05:33:08.812136Z"
    },
    "scrolled": false
   },
   "outputs": [
    {
     "data": {
      "text/html": [
       "<div>\n",
       "<style scoped>\n",
       "    .dataframe tbody tr th:only-of-type {\n",
       "        vertical-align: middle;\n",
       "    }\n",
       "\n",
       "    .dataframe tbody tr th {\n",
       "        vertical-align: top;\n",
       "    }\n",
       "\n",
       "    .dataframe thead th {\n",
       "        text-align: right;\n",
       "    }\n",
       "</style>\n",
       "<table border=\"1\" class=\"dataframe\">\n",
       "  <thead>\n",
       "    <tr style=\"text-align: right;\">\n",
       "      <th></th>\n",
       "      <th>label</th>\n",
       "      <th>319.258</th>\n",
       "      <th>322.902</th>\n",
       "      <th>326.545</th>\n",
       "      <th>330.186</th>\n",
       "      <th>333.824</th>\n",
       "      <th>337.462</th>\n",
       "      <th>341.099</th>\n",
       "      <th>344.734</th>\n",
       "      <th>348.368</th>\n",
       "      <th>...</th>\n",
       "      <th>1771.66</th>\n",
       "      <th>1774.75</th>\n",
       "      <th>1777.83</th>\n",
       "      <th>1780.92</th>\n",
       "      <th>1784</th>\n",
       "      <th>1787.08</th>\n",
       "      <th>1790.17</th>\n",
       "      <th>1793.24</th>\n",
       "      <th>1796.32</th>\n",
       "      <th>1799.4</th>\n",
       "    </tr>\n",
       "  </thead>\n",
       "  <tbody>\n",
       "    <tr>\n",
       "      <th>0</th>\n",
       "      <td>OTHER</td>\n",
       "      <td>0.001514</td>\n",
       "      <td>0.000816</td>\n",
       "      <td>0.000921</td>\n",
       "      <td>0.000719</td>\n",
       "      <td>0.000985</td>\n",
       "      <td>0.001024</td>\n",
       "      <td>0.000964</td>\n",
       "      <td>0.001195</td>\n",
       "      <td>0.000754</td>\n",
       "      <td>...</td>\n",
       "      <td>0.000603</td>\n",
       "      <td>3.630000e-17</td>\n",
       "      <td>7.935740e-04</td>\n",
       "      <td>8.077730e-04</td>\n",
       "      <td>0.001003</td>\n",
       "      <td>1.031295e-03</td>\n",
       "      <td>7.087760e-04</td>\n",
       "      <td>0.000556</td>\n",
       "      <td>0.000361</td>\n",
       "      <td>0.000302</td>\n",
       "    </tr>\n",
       "    <tr>\n",
       "      <th>1</th>\n",
       "      <td>OTHER</td>\n",
       "      <td>0.002712</td>\n",
       "      <td>0.002558</td>\n",
       "      <td>0.001985</td>\n",
       "      <td>0.002420</td>\n",
       "      <td>0.002236</td>\n",
       "      <td>0.001807</td>\n",
       "      <td>0.001925</td>\n",
       "      <td>0.002246</td>\n",
       "      <td>0.001539</td>\n",
       "      <td>...</td>\n",
       "      <td>0.000957</td>\n",
       "      <td>3.727660e-04</td>\n",
       "      <td>5.300080e-04</td>\n",
       "      <td>2.027900e-04</td>\n",
       "      <td>0.000364</td>\n",
       "      <td>3.040210e-04</td>\n",
       "      <td>8.810000e-17</td>\n",
       "      <td>0.000455</td>\n",
       "      <td>0.000304</td>\n",
       "      <td>0.000223</td>\n",
       "    </tr>\n",
       "    <tr>\n",
       "      <th>2</th>\n",
       "      <td>OTHER</td>\n",
       "      <td>0.001476</td>\n",
       "      <td>0.001367</td>\n",
       "      <td>0.001466</td>\n",
       "      <td>0.002108</td>\n",
       "      <td>0.001322</td>\n",
       "      <td>0.001586</td>\n",
       "      <td>0.001460</td>\n",
       "      <td>0.001311</td>\n",
       "      <td>0.001087</td>\n",
       "      <td>...</td>\n",
       "      <td>0.000579</td>\n",
       "      <td>-2.040000e-16</td>\n",
       "      <td>5.306180e-04</td>\n",
       "      <td>5.127810e-04</td>\n",
       "      <td>0.000859</td>\n",
       "      <td>4.236630e-04</td>\n",
       "      <td>1.968000e-04</td>\n",
       "      <td>0.000563</td>\n",
       "      <td>0.000395</td>\n",
       "      <td>0.000408</td>\n",
       "    </tr>\n",
       "    <tr>\n",
       "      <th>3</th>\n",
       "      <td>OTHER</td>\n",
       "      <td>0.001460</td>\n",
       "      <td>0.001370</td>\n",
       "      <td>0.001747</td>\n",
       "      <td>0.001451</td>\n",
       "      <td>0.001184</td>\n",
       "      <td>0.001542</td>\n",
       "      <td>0.001051</td>\n",
       "      <td>0.001227</td>\n",
       "      <td>0.001493</td>\n",
       "      <td>...</td>\n",
       "      <td>0.000595</td>\n",
       "      <td>3.658820e-04</td>\n",
       "      <td>6.416930e-04</td>\n",
       "      <td>6.170940e-04</td>\n",
       "      <td>0.000458</td>\n",
       "      <td>6.160000e-17</td>\n",
       "      <td>4.084410e-04</td>\n",
       "      <td>0.000382</td>\n",
       "      <td>0.000481</td>\n",
       "      <td>0.000134</td>\n",
       "    </tr>\n",
       "    <tr>\n",
       "      <th>4</th>\n",
       "      <td>OTHER</td>\n",
       "      <td>0.002125</td>\n",
       "      <td>0.002108</td>\n",
       "      <td>0.001620</td>\n",
       "      <td>0.001725</td>\n",
       "      <td>0.001675</td>\n",
       "      <td>0.001048</td>\n",
       "      <td>0.001475</td>\n",
       "      <td>0.001926</td>\n",
       "      <td>0.001212</td>\n",
       "      <td>...</td>\n",
       "      <td>0.002510</td>\n",
       "      <td>5.279770e-04</td>\n",
       "      <td>5.628480e-04</td>\n",
       "      <td>5.581010e-04</td>\n",
       "      <td>0.000673</td>\n",
       "      <td>5.905160e-04</td>\n",
       "      <td>5.420000e-05</td>\n",
       "      <td>0.001012</td>\n",
       "      <td>0.000637</td>\n",
       "      <td>0.000519</td>\n",
       "    </tr>\n",
       "    <tr>\n",
       "      <th>...</th>\n",
       "      <td>...</td>\n",
       "      <td>...</td>\n",
       "      <td>...</td>\n",
       "      <td>...</td>\n",
       "      <td>...</td>\n",
       "      <td>...</td>\n",
       "      <td>...</td>\n",
       "      <td>...</td>\n",
       "      <td>...</td>\n",
       "      <td>...</td>\n",
       "      <td>...</td>\n",
       "      <td>...</td>\n",
       "      <td>...</td>\n",
       "      <td>...</td>\n",
       "      <td>...</td>\n",
       "      <td>...</td>\n",
       "      <td>...</td>\n",
       "      <td>...</td>\n",
       "      <td>...</td>\n",
       "      <td>...</td>\n",
       "      <td>...</td>\n",
       "    </tr>\n",
       "    <tr>\n",
       "      <th>8769</th>\n",
       "      <td>iPSC</td>\n",
       "      <td>0.001871</td>\n",
       "      <td>0.000833</td>\n",
       "      <td>0.002014</td>\n",
       "      <td>0.001830</td>\n",
       "      <td>0.002027</td>\n",
       "      <td>0.002656</td>\n",
       "      <td>0.002007</td>\n",
       "      <td>0.001815</td>\n",
       "      <td>0.002817</td>\n",
       "      <td>...</td>\n",
       "      <td>0.000779</td>\n",
       "      <td>5.668120e-04</td>\n",
       "      <td>4.320000e-17</td>\n",
       "      <td>5.880790e-04</td>\n",
       "      <td>0.000820</td>\n",
       "      <td>5.378680e-04</td>\n",
       "      <td>1.819940e-04</td>\n",
       "      <td>0.000260</td>\n",
       "      <td>0.000063</td>\n",
       "      <td>0.000263</td>\n",
       "    </tr>\n",
       "    <tr>\n",
       "      <th>8770</th>\n",
       "      <td>iPSC</td>\n",
       "      <td>0.002978</td>\n",
       "      <td>0.003100</td>\n",
       "      <td>0.003716</td>\n",
       "      <td>0.002717</td>\n",
       "      <td>0.002636</td>\n",
       "      <td>0.003308</td>\n",
       "      <td>0.002779</td>\n",
       "      <td>0.001881</td>\n",
       "      <td>0.001654</td>\n",
       "      <td>...</td>\n",
       "      <td>0.000651</td>\n",
       "      <td>1.532544e-03</td>\n",
       "      <td>1.584219e-03</td>\n",
       "      <td>9.499710e-04</td>\n",
       "      <td>0.001697</td>\n",
       "      <td>1.070876e-03</td>\n",
       "      <td>7.966140e-04</td>\n",
       "      <td>0.001619</td>\n",
       "      <td>0.001827</td>\n",
       "      <td>0.001349</td>\n",
       "    </tr>\n",
       "    <tr>\n",
       "      <th>8771</th>\n",
       "      <td>iPSC</td>\n",
       "      <td>0.001227</td>\n",
       "      <td>0.002176</td>\n",
       "      <td>0.003017</td>\n",
       "      <td>0.001452</td>\n",
       "      <td>0.001660</td>\n",
       "      <td>0.001197</td>\n",
       "      <td>0.002600</td>\n",
       "      <td>0.002833</td>\n",
       "      <td>0.002755</td>\n",
       "      <td>...</td>\n",
       "      <td>0.000187</td>\n",
       "      <td>1.334972e-03</td>\n",
       "      <td>1.356227e-03</td>\n",
       "      <td>1.547478e-03</td>\n",
       "      <td>0.000663</td>\n",
       "      <td>6.960340e-04</td>\n",
       "      <td>6.967650e-04</td>\n",
       "      <td>0.001151</td>\n",
       "      <td>0.001194</td>\n",
       "      <td>0.000824</td>\n",
       "    </tr>\n",
       "    <tr>\n",
       "      <th>8772</th>\n",
       "      <td>iPSC</td>\n",
       "      <td>0.001727</td>\n",
       "      <td>0.001509</td>\n",
       "      <td>0.001428</td>\n",
       "      <td>0.002757</td>\n",
       "      <td>0.001488</td>\n",
       "      <td>0.001877</td>\n",
       "      <td>0.002593</td>\n",
       "      <td>0.001720</td>\n",
       "      <td>0.001625</td>\n",
       "      <td>...</td>\n",
       "      <td>0.000109</td>\n",
       "      <td>1.019713e-03</td>\n",
       "      <td>6.486190e-04</td>\n",
       "      <td>6.002350e-04</td>\n",
       "      <td>0.000275</td>\n",
       "      <td>4.701520e-04</td>\n",
       "      <td>6.297940e-04</td>\n",
       "      <td>0.000231</td>\n",
       "      <td>0.001147</td>\n",
       "      <td>0.000393</td>\n",
       "    </tr>\n",
       "    <tr>\n",
       "      <th>8773</th>\n",
       "      <td>iPSC</td>\n",
       "      <td>0.001776</td>\n",
       "      <td>0.002294</td>\n",
       "      <td>0.002038</td>\n",
       "      <td>0.001729</td>\n",
       "      <td>0.001187</td>\n",
       "      <td>0.001955</td>\n",
       "      <td>0.001987</td>\n",
       "      <td>0.002174</td>\n",
       "      <td>0.001508</td>\n",
       "      <td>...</td>\n",
       "      <td>0.000543</td>\n",
       "      <td>1.616730e-04</td>\n",
       "      <td>3.763150e-04</td>\n",
       "      <td>4.130000e-17</td>\n",
       "      <td>0.000180</td>\n",
       "      <td>1.768880e-04</td>\n",
       "      <td>6.197880e-04</td>\n",
       "      <td>0.000029</td>\n",
       "      <td>0.000288</td>\n",
       "      <td>0.000547</td>\n",
       "    </tr>\n",
       "  </tbody>\n",
       "</table>\n",
       "<p>8774 rows × 444 columns</p>\n",
       "</div>"
      ],
      "text/plain": [
       "      label   319.258   322.902   326.545   330.186   333.824   337.462  \\\n",
       "0     OTHER  0.001514  0.000816  0.000921  0.000719  0.000985  0.001024   \n",
       "1     OTHER  0.002712  0.002558  0.001985  0.002420  0.002236  0.001807   \n",
       "2     OTHER  0.001476  0.001367  0.001466  0.002108  0.001322  0.001586   \n",
       "3     OTHER  0.001460  0.001370  0.001747  0.001451  0.001184  0.001542   \n",
       "4     OTHER  0.002125  0.002108  0.001620  0.001725  0.001675  0.001048   \n",
       "...     ...       ...       ...       ...       ...       ...       ...   \n",
       "8769   iPSC  0.001871  0.000833  0.002014  0.001830  0.002027  0.002656   \n",
       "8770   iPSC  0.002978  0.003100  0.003716  0.002717  0.002636  0.003308   \n",
       "8771   iPSC  0.001227  0.002176  0.003017  0.001452  0.001660  0.001197   \n",
       "8772   iPSC  0.001727  0.001509  0.001428  0.002757  0.001488  0.001877   \n",
       "8773   iPSC  0.001776  0.002294  0.002038  0.001729  0.001187  0.001955   \n",
       "\n",
       "       341.099   344.734   348.368  ...   1771.66       1774.75       1777.83  \\\n",
       "0     0.000964  0.001195  0.000754  ...  0.000603  3.630000e-17  7.935740e-04   \n",
       "1     0.001925  0.002246  0.001539  ...  0.000957  3.727660e-04  5.300080e-04   \n",
       "2     0.001460  0.001311  0.001087  ...  0.000579 -2.040000e-16  5.306180e-04   \n",
       "3     0.001051  0.001227  0.001493  ...  0.000595  3.658820e-04  6.416930e-04   \n",
       "4     0.001475  0.001926  0.001212  ...  0.002510  5.279770e-04  5.628480e-04   \n",
       "...        ...       ...       ...  ...       ...           ...           ...   \n",
       "8769  0.002007  0.001815  0.002817  ...  0.000779  5.668120e-04  4.320000e-17   \n",
       "8770  0.002779  0.001881  0.001654  ...  0.000651  1.532544e-03  1.584219e-03   \n",
       "8771  0.002600  0.002833  0.002755  ...  0.000187  1.334972e-03  1.356227e-03   \n",
       "8772  0.002593  0.001720  0.001625  ...  0.000109  1.019713e-03  6.486190e-04   \n",
       "8773  0.001987  0.002174  0.001508  ...  0.000543  1.616730e-04  3.763150e-04   \n",
       "\n",
       "           1780.92      1784       1787.08       1790.17   1793.24   1796.32  \\\n",
       "0     8.077730e-04  0.001003  1.031295e-03  7.087760e-04  0.000556  0.000361   \n",
       "1     2.027900e-04  0.000364  3.040210e-04  8.810000e-17  0.000455  0.000304   \n",
       "2     5.127810e-04  0.000859  4.236630e-04  1.968000e-04  0.000563  0.000395   \n",
       "3     6.170940e-04  0.000458  6.160000e-17  4.084410e-04  0.000382  0.000481   \n",
       "4     5.581010e-04  0.000673  5.905160e-04  5.420000e-05  0.001012  0.000637   \n",
       "...            ...       ...           ...           ...       ...       ...   \n",
       "8769  5.880790e-04  0.000820  5.378680e-04  1.819940e-04  0.000260  0.000063   \n",
       "8770  9.499710e-04  0.001697  1.070876e-03  7.966140e-04  0.001619  0.001827   \n",
       "8771  1.547478e-03  0.000663  6.960340e-04  6.967650e-04  0.001151  0.001194   \n",
       "8772  6.002350e-04  0.000275  4.701520e-04  6.297940e-04  0.000231  0.001147   \n",
       "8773  4.130000e-17  0.000180  1.768880e-04  6.197880e-04  0.000029  0.000288   \n",
       "\n",
       "        1799.4  \n",
       "0     0.000302  \n",
       "1     0.000223  \n",
       "2     0.000408  \n",
       "3     0.000134  \n",
       "4     0.000519  \n",
       "...        ...  \n",
       "8769  0.000263  \n",
       "8770  0.001349  \n",
       "8771  0.000824  \n",
       "8772  0.000393  \n",
       "8773  0.000547  \n",
       "\n",
       "[8774 rows x 444 columns]"
      ]
     },
     "execution_count": 4,
     "metadata": {},
     "output_type": "execute_result"
    }
   ],
   "source": [
    "df"
   ]
  },
  {
   "cell_type": "code",
   "execution_count": 5,
   "id": "88d4dc60",
   "metadata": {
    "ExecuteTime": {
     "end_time": "2023-07-07T05:33:10.654402Z",
     "start_time": "2023-07-07T05:33:10.006922Z"
    }
   },
   "outputs": [],
   "source": [
    "df_pca = PCA_transform(df.iloc[:,1:],30)"
   ]
  },
  {
   "cell_type": "code",
   "execution_count": 6,
   "id": "2b2fc608",
   "metadata": {
    "ExecuteTime": {
     "end_time": "2023-07-07T05:33:10.797237Z",
     "start_time": "2023-07-07T05:33:10.771889Z"
    }
   },
   "outputs": [
    {
     "data": {
      "text/html": [
       "<div>\n",
       "<style scoped>\n",
       "    .dataframe tbody tr th:only-of-type {\n",
       "        vertical-align: middle;\n",
       "    }\n",
       "\n",
       "    .dataframe tbody tr th {\n",
       "        vertical-align: top;\n",
       "    }\n",
       "\n",
       "    .dataframe thead th {\n",
       "        text-align: right;\n",
       "    }\n",
       "</style>\n",
       "<table border=\"1\" class=\"dataframe\">\n",
       "  <thead>\n",
       "    <tr style=\"text-align: right;\">\n",
       "      <th></th>\n",
       "      <th>0</th>\n",
       "      <th>1</th>\n",
       "      <th>2</th>\n",
       "      <th>3</th>\n",
       "      <th>4</th>\n",
       "      <th>5</th>\n",
       "      <th>6</th>\n",
       "      <th>7</th>\n",
       "      <th>8</th>\n",
       "      <th>9</th>\n",
       "      <th>...</th>\n",
       "      <th>806</th>\n",
       "      <th>807</th>\n",
       "      <th>808</th>\n",
       "      <th>809</th>\n",
       "      <th>837</th>\n",
       "      <th>838</th>\n",
       "      <th>839</th>\n",
       "      <th>868</th>\n",
       "      <th>869</th>\n",
       "      <th>899</th>\n",
       "    </tr>\n",
       "  </thead>\n",
       "  <tbody>\n",
       "    <tr>\n",
       "      <th>0</th>\n",
       "      <td>0.313378</td>\n",
       "      <td>0.061172</td>\n",
       "      <td>-0.650391</td>\n",
       "      <td>0.821060</td>\n",
       "      <td>0.562980</td>\n",
       "      <td>0.702822</td>\n",
       "      <td>0.755320</td>\n",
       "      <td>0.230781</td>\n",
       "      <td>0.236442</td>\n",
       "      <td>0.303944</td>\n",
       "      <td>...</td>\n",
       "      <td>-1.217904</td>\n",
       "      <td>-1.318722</td>\n",
       "      <td>-0.411205</td>\n",
       "      <td>-0.587462</td>\n",
       "      <td>-0.644456</td>\n",
       "      <td>0.001650</td>\n",
       "      <td>-0.174539</td>\n",
       "      <td>0.651021</td>\n",
       "      <td>0.745909</td>\n",
       "      <td>0.403323</td>\n",
       "    </tr>\n",
       "    <tr>\n",
       "      <th>1</th>\n",
       "      <td>-0.767300</td>\n",
       "      <td>-0.885518</td>\n",
       "      <td>-0.339779</td>\n",
       "      <td>-0.508190</td>\n",
       "      <td>-1.150856</td>\n",
       "      <td>-0.688299</td>\n",
       "      <td>-0.711832</td>\n",
       "      <td>-0.650202</td>\n",
       "      <td>-0.796915</td>\n",
       "      <td>-0.631314</td>\n",
       "      <td>...</td>\n",
       "      <td>1.041256</td>\n",
       "      <td>0.624303</td>\n",
       "      <td>-0.265523</td>\n",
       "      <td>1.213331</td>\n",
       "      <td>-0.163866</td>\n",
       "      <td>-1.128483</td>\n",
       "      <td>0.355401</td>\n",
       "      <td>-1.436226</td>\n",
       "      <td>-0.544315</td>\n",
       "      <td>0.671039</td>\n",
       "    </tr>\n",
       "    <tr>\n",
       "      <th>2</th>\n",
       "      <td>-0.454528</td>\n",
       "      <td>-0.588440</td>\n",
       "      <td>-1.511957</td>\n",
       "      <td>-0.259404</td>\n",
       "      <td>-0.504681</td>\n",
       "      <td>-0.595057</td>\n",
       "      <td>-0.423962</td>\n",
       "      <td>-0.428485</td>\n",
       "      <td>-0.274104</td>\n",
       "      <td>-0.453593</td>\n",
       "      <td>...</td>\n",
       "      <td>0.407752</td>\n",
       "      <td>0.123984</td>\n",
       "      <td>0.292286</td>\n",
       "      <td>0.204875</td>\n",
       "      <td>-0.235357</td>\n",
       "      <td>-0.165246</td>\n",
       "      <td>-0.254053</td>\n",
       "      <td>0.002437</td>\n",
       "      <td>-0.085286</td>\n",
       "      <td>-0.123326</td>\n",
       "    </tr>\n",
       "    <tr>\n",
       "      <th>3</th>\n",
       "      <td>-0.855841</td>\n",
       "      <td>-0.951752</td>\n",
       "      <td>-1.537930</td>\n",
       "      <td>-0.094024</td>\n",
       "      <td>-1.203644</td>\n",
       "      <td>-0.981584</td>\n",
       "      <td>-1.015542</td>\n",
       "      <td>-0.722210</td>\n",
       "      <td>-0.994886</td>\n",
       "      <td>-0.893763</td>\n",
       "      <td>...</td>\n",
       "      <td>0.564043</td>\n",
       "      <td>-0.033881</td>\n",
       "      <td>0.568773</td>\n",
       "      <td>-0.282044</td>\n",
       "      <td>-0.617375</td>\n",
       "      <td>-0.270376</td>\n",
       "      <td>-1.126975</td>\n",
       "      <td>0.237794</td>\n",
       "      <td>-0.521813</td>\n",
       "      <td>-0.978411</td>\n",
       "    </tr>\n",
       "    <tr>\n",
       "      <th>4</th>\n",
       "      <td>0.001473</td>\n",
       "      <td>-0.256258</td>\n",
       "      <td>0.328121</td>\n",
       "      <td>0.805529</td>\n",
       "      <td>-0.205812</td>\n",
       "      <td>-0.237941</td>\n",
       "      <td>0.260430</td>\n",
       "      <td>0.062051</td>\n",
       "      <td>-0.076064</td>\n",
       "      <td>-0.003354</td>\n",
       "      <td>...</td>\n",
       "      <td>1.296558</td>\n",
       "      <td>0.143832</td>\n",
       "      <td>0.056544</td>\n",
       "      <td>0.570068</td>\n",
       "      <td>-1.104152</td>\n",
       "      <td>-1.654745</td>\n",
       "      <td>-1.142530</td>\n",
       "      <td>-1.236474</td>\n",
       "      <td>-1.234938</td>\n",
       "      <td>-0.508421</td>\n",
       "    </tr>\n",
       "    <tr>\n",
       "      <th>...</th>\n",
       "      <td>...</td>\n",
       "      <td>...</td>\n",
       "      <td>...</td>\n",
       "      <td>...</td>\n",
       "      <td>...</td>\n",
       "      <td>...</td>\n",
       "      <td>...</td>\n",
       "      <td>...</td>\n",
       "      <td>...</td>\n",
       "      <td>...</td>\n",
       "      <td>...</td>\n",
       "      <td>...</td>\n",
       "      <td>...</td>\n",
       "      <td>...</td>\n",
       "      <td>...</td>\n",
       "      <td>...</td>\n",
       "      <td>...</td>\n",
       "      <td>...</td>\n",
       "      <td>...</td>\n",
       "      <td>...</td>\n",
       "      <td>...</td>\n",
       "    </tr>\n",
       "    <tr>\n",
       "      <th>8769</th>\n",
       "      <td>-0.056715</td>\n",
       "      <td>-0.321881</td>\n",
       "      <td>0.158606</td>\n",
       "      <td>-0.176358</td>\n",
       "      <td>-0.016054</td>\n",
       "      <td>-0.140444</td>\n",
       "      <td>-0.126921</td>\n",
       "      <td>-0.138888</td>\n",
       "      <td>-0.060372</td>\n",
       "      <td>-0.220510</td>\n",
       "      <td>...</td>\n",
       "      <td>-0.579575</td>\n",
       "      <td>-0.279202</td>\n",
       "      <td>0.244960</td>\n",
       "      <td>0.356372</td>\n",
       "      <td>0.188237</td>\n",
       "      <td>0.794576</td>\n",
       "      <td>0.907701</td>\n",
       "      <td>0.937926</td>\n",
       "      <td>1.441080</td>\n",
       "      <td>1.100445</td>\n",
       "    </tr>\n",
       "    <tr>\n",
       "      <th>8770</th>\n",
       "      <td>2.254918</td>\n",
       "      <td>2.168658</td>\n",
       "      <td>1.959841</td>\n",
       "      <td>1.537932</td>\n",
       "      <td>2.036874</td>\n",
       "      <td>2.106036</td>\n",
       "      <td>2.147703</td>\n",
       "      <td>2.130381</td>\n",
       "      <td>1.937202</td>\n",
       "      <td>2.440576</td>\n",
       "      <td>...</td>\n",
       "      <td>0.607732</td>\n",
       "      <td>1.823529</td>\n",
       "      <td>-0.563379</td>\n",
       "      <td>1.389133</td>\n",
       "      <td>1.977454</td>\n",
       "      <td>0.401722</td>\n",
       "      <td>2.365430</td>\n",
       "      <td>-1.420422</td>\n",
       "      <td>-0.043836</td>\n",
       "      <td>1.364506</td>\n",
       "    </tr>\n",
       "    <tr>\n",
       "      <th>8771</th>\n",
       "      <td>1.644361</td>\n",
       "      <td>1.523087</td>\n",
       "      <td>0.822165</td>\n",
       "      <td>1.110343</td>\n",
       "      <td>1.720201</td>\n",
       "      <td>1.403203</td>\n",
       "      <td>1.749708</td>\n",
       "      <td>1.481213</td>\n",
       "      <td>1.664669</td>\n",
       "      <td>1.665128</td>\n",
       "      <td>...</td>\n",
       "      <td>1.325181</td>\n",
       "      <td>-0.186480</td>\n",
       "      <td>1.828425</td>\n",
       "      <td>-0.104447</td>\n",
       "      <td>-1.602330</td>\n",
       "      <td>-0.248535</td>\n",
       "      <td>-2.194906</td>\n",
       "      <td>1.260192</td>\n",
       "      <td>-0.166195</td>\n",
       "      <td>-1.501256</td>\n",
       "    </tr>\n",
       "    <tr>\n",
       "      <th>8772</th>\n",
       "      <td>0.626306</td>\n",
       "      <td>0.231901</td>\n",
       "      <td>-0.066035</td>\n",
       "      <td>0.289803</td>\n",
       "      <td>0.643528</td>\n",
       "      <td>0.416312</td>\n",
       "      <td>0.532798</td>\n",
       "      <td>0.331648</td>\n",
       "      <td>0.904622</td>\n",
       "      <td>0.337062</td>\n",
       "      <td>...</td>\n",
       "      <td>1.797227</td>\n",
       "      <td>-0.354239</td>\n",
       "      <td>1.897238</td>\n",
       "      <td>-0.079281</td>\n",
       "      <td>-2.317069</td>\n",
       "      <td>-1.024400</td>\n",
       "      <td>-3.016450</td>\n",
       "      <td>0.878766</td>\n",
       "      <td>-0.750928</td>\n",
       "      <td>-1.946916</td>\n",
       "    </tr>\n",
       "    <tr>\n",
       "      <th>8773</th>\n",
       "      <td>0.406212</td>\n",
       "      <td>0.315497</td>\n",
       "      <td>0.177714</td>\n",
       "      <td>0.089984</td>\n",
       "      <td>0.333938</td>\n",
       "      <td>0.468514</td>\n",
       "      <td>0.348601</td>\n",
       "      <td>0.508991</td>\n",
       "      <td>0.458665</td>\n",
       "      <td>0.201516</td>\n",
       "      <td>...</td>\n",
       "      <td>0.158001</td>\n",
       "      <td>0.233313</td>\n",
       "      <td>0.387124</td>\n",
       "      <td>0.195952</td>\n",
       "      <td>0.172023</td>\n",
       "      <td>0.397838</td>\n",
       "      <td>0.205800</td>\n",
       "      <td>0.391328</td>\n",
       "      <td>0.361089</td>\n",
       "      <td>0.118739</td>\n",
       "    </tr>\n",
       "  </tbody>\n",
       "</table>\n",
       "<p>8774 rows × 465 columns</p>\n",
       "</div>"
      ],
      "text/plain": [
       "           0         1         2         3         4         5         6    \\\n",
       "0     0.313378  0.061172 -0.650391  0.821060  0.562980  0.702822  0.755320   \n",
       "1    -0.767300 -0.885518 -0.339779 -0.508190 -1.150856 -0.688299 -0.711832   \n",
       "2    -0.454528 -0.588440 -1.511957 -0.259404 -0.504681 -0.595057 -0.423962   \n",
       "3    -0.855841 -0.951752 -1.537930 -0.094024 -1.203644 -0.981584 -1.015542   \n",
       "4     0.001473 -0.256258  0.328121  0.805529 -0.205812 -0.237941  0.260430   \n",
       "...        ...       ...       ...       ...       ...       ...       ...   \n",
       "8769 -0.056715 -0.321881  0.158606 -0.176358 -0.016054 -0.140444 -0.126921   \n",
       "8770  2.254918  2.168658  1.959841  1.537932  2.036874  2.106036  2.147703   \n",
       "8771  1.644361  1.523087  0.822165  1.110343  1.720201  1.403203  1.749708   \n",
       "8772  0.626306  0.231901 -0.066035  0.289803  0.643528  0.416312  0.532798   \n",
       "8773  0.406212  0.315497  0.177714  0.089984  0.333938  0.468514  0.348601   \n",
       "\n",
       "           7         8         9    ...       806       807       808  \\\n",
       "0     0.230781  0.236442  0.303944  ... -1.217904 -1.318722 -0.411205   \n",
       "1    -0.650202 -0.796915 -0.631314  ...  1.041256  0.624303 -0.265523   \n",
       "2    -0.428485 -0.274104 -0.453593  ...  0.407752  0.123984  0.292286   \n",
       "3    -0.722210 -0.994886 -0.893763  ...  0.564043 -0.033881  0.568773   \n",
       "4     0.062051 -0.076064 -0.003354  ...  1.296558  0.143832  0.056544   \n",
       "...        ...       ...       ...  ...       ...       ...       ...   \n",
       "8769 -0.138888 -0.060372 -0.220510  ... -0.579575 -0.279202  0.244960   \n",
       "8770  2.130381  1.937202  2.440576  ...  0.607732  1.823529 -0.563379   \n",
       "8771  1.481213  1.664669  1.665128  ...  1.325181 -0.186480  1.828425   \n",
       "8772  0.331648  0.904622  0.337062  ...  1.797227 -0.354239  1.897238   \n",
       "8773  0.508991  0.458665  0.201516  ...  0.158001  0.233313  0.387124   \n",
       "\n",
       "           809       837       838       839       868       869       899  \n",
       "0    -0.587462 -0.644456  0.001650 -0.174539  0.651021  0.745909  0.403323  \n",
       "1     1.213331 -0.163866 -1.128483  0.355401 -1.436226 -0.544315  0.671039  \n",
       "2     0.204875 -0.235357 -0.165246 -0.254053  0.002437 -0.085286 -0.123326  \n",
       "3    -0.282044 -0.617375 -0.270376 -1.126975  0.237794 -0.521813 -0.978411  \n",
       "4     0.570068 -1.104152 -1.654745 -1.142530 -1.236474 -1.234938 -0.508421  \n",
       "...        ...       ...       ...       ...       ...       ...       ...  \n",
       "8769  0.356372  0.188237  0.794576  0.907701  0.937926  1.441080  1.100445  \n",
       "8770  1.389133  1.977454  0.401722  2.365430 -1.420422 -0.043836  1.364506  \n",
       "8771 -0.104447 -1.602330 -0.248535 -2.194906  1.260192 -0.166195 -1.501256  \n",
       "8772 -0.079281 -2.317069 -1.024400 -3.016450  0.878766 -0.750928 -1.946916  \n",
       "8773  0.195952  0.172023  0.397838  0.205800  0.391328  0.361089  0.118739  \n",
       "\n",
       "[8774 rows x 465 columns]"
      ]
     },
     "execution_count": 6,
     "metadata": {},
     "output_type": "execute_result"
    }
   ],
   "source": [
    "df_pca"
   ]
  },
  {
   "cell_type": "code",
   "execution_count": 7,
   "id": "9c4dacf0",
   "metadata": {
    "ExecuteTime": {
     "end_time": "2023-07-07T05:24:40.269597Z",
     "start_time": "2023-07-07T05:24:26.867410Z"
    }
   },
   "outputs": [
    {
     "name": "stdout",
     "output_type": "stream",
     "text": [
      "2023-07-07 13:24:26,880 - \u001b[32mINFO\u001b[0m - [bidd-aggmap]\u001b[0m - Calculating distance ...\u001b[0m\n",
      "2023-07-07 13:24:26,894 - \u001b[32mINFO\u001b[0m - [bidd-aggmap]\u001b[0m - the number of process is 16\u001b[0m\n"
     ]
    },
    {
     "name": "stderr",
     "output_type": "stream",
     "text": [
      "100%|##########| 97903/97903 [00:06<00:00, 16042.11it/s]\n",
      "100%|##########| 97903/97903 [00:00<00:00, 2159463.52it/s]\n",
      "100%|##########| 443/443 [00:00<00:00, 567.60it/s]\n"
     ]
    },
    {
     "name": "stdout",
     "output_type": "stream",
     "text": [
      "2023-07-07 13:24:34,128 - \u001b[32mINFO\u001b[0m - [bidd-aggmap]\u001b[0m - applying hierarchical clustering to obtain group information ...\u001b[0m\n",
      "2023-07-07 13:24:39,825 - \u001b[32mINFO\u001b[0m - [bidd-aggmap]\u001b[0m - Applying grid assignment of feature points, this may take several minutes(1~30 min)\u001b[0m\n",
      "2023-07-07 13:24:40,102 - \u001b[32mINFO\u001b[0m - [bidd-aggmap]\u001b[0m - Finished\u001b[0m\n"
     ]
    },
    {
     "data": {
      "text/plain": [
       "['mp_example/scs_sar.mp']"
      ]
     },
     "execution_count": 7,
     "metadata": {},
     "output_type": "execute_result"
    }
   ],
   "source": [
    "# channel 9 for example\n",
    "mp_sar = AggMap(df.iloc[:,1:],metric = 'euclidean')\n",
    "mp_sar = mp_sar.fit(cluster_channels = 9, verbose = 0)\n",
    "mp_sar.save('mp_example/scs_sar.mp')"
   ]
  },
  {
   "cell_type": "code",
   "execution_count": 8,
   "id": "b9805266",
   "metadata": {
    "ExecuteTime": {
     "end_time": "2023-07-07T05:24:50.140622Z",
     "start_time": "2023-07-07T05:24:40.274044Z"
    }
   },
   "outputs": [
    {
     "name": "stdout",
     "output_type": "stream",
     "text": [
      "2023-07-07 13:24:40,278 - \u001b[32mINFO\u001b[0m - [bidd-aggmap]\u001b[0m - Calculating distance ...\u001b[0m\n",
      "2023-07-07 13:24:40,291 - \u001b[32mINFO\u001b[0m - [bidd-aggmap]\u001b[0m - the number of process is 16\u001b[0m\n"
     ]
    },
    {
     "name": "stderr",
     "output_type": "stream",
     "text": [
      "100%|##########| 107880/107880 [00:06<00:00, 15993.41it/s]\n",
      "100%|##########| 107880/107880 [00:00<00:00, 2167119.34it/s]\n",
      "100%|##########| 465/465 [00:01<00:00, 445.57it/s]\n"
     ]
    },
    {
     "name": "stdout",
     "output_type": "stream",
     "text": [
      "2023-07-07 13:24:48,494 - \u001b[32mINFO\u001b[0m - [bidd-aggmap]\u001b[0m - applying hierarchical clustering to obtain group information ...\u001b[0m\n",
      "2023-07-07 13:24:49,863 - \u001b[32mINFO\u001b[0m - [bidd-aggmap]\u001b[0m - Applying grid assignment of feature points, this may take several minutes(1~30 min)\u001b[0m\n",
      "2023-07-07 13:24:50,094 - \u001b[32mINFO\u001b[0m - [bidd-aggmap]\u001b[0m - Finished\u001b[0m\n"
     ]
    },
    {
     "data": {
      "text/plain": [
       "['mp_example/scs_car.mp']"
      ]
     },
     "execution_count": 8,
     "metadata": {},
     "output_type": "execute_result"
    }
   ],
   "source": [
    "# channel 9 for example\n",
    "mp_car = AggMap(df_pca,metric = 'euclidean')\n",
    "mp_car = mp_car.fit(cluster_channels = 9, verbose = 0)\n",
    "mp_car.save('mp_example/scs_car.mp')"
   ]
  },
  {
   "cell_type": "code",
   "execution_count": 9,
   "id": "658b7a93",
   "metadata": {
    "ExecuteTime": {
     "end_time": "2023-07-07T05:33:25.263132Z",
     "start_time": "2023-07-07T05:33:25.220979Z"
    },
    "scrolled": true
   },
   "outputs": [],
   "source": [
    "mp_sar = load('mp_example/scs_sar.mp')\n",
    "mp_car = load('mp_example/scs_car.mp')"
   ]
  },
  {
   "cell_type": "code",
   "execution_count": 11,
   "id": "47c892de",
   "metadata": {
    "ExecuteTime": {
     "end_time": "2023-07-07T05:33:53.457231Z",
     "start_time": "2023-07-07T05:33:44.932967Z"
    }
   },
   "outputs": [
    {
     "name": "stderr",
     "output_type": "stream",
     "text": [
      "100%|##########| 8774/8774 [00:05<00:00, 1595.70it/s]\n"
     ]
    },
    {
     "data": {
      "text/plain": [
       "['mp_example/scs_x1.data']"
      ]
     },
     "execution_count": 11,
     "metadata": {},
     "output_type": "execute_result"
    }
   ],
   "source": [
    "X1 = mp_sar.batch_transform(df.iloc[:,1:].values,scale_method = 'minmax')\n",
    "dump(X1,'mp_example/scs_x1.data')"
   ]
  },
  {
   "cell_type": "code",
   "execution_count": 12,
   "id": "dc405449",
   "metadata": {
    "ExecuteTime": {
     "end_time": "2023-07-07T05:34:02.219820Z",
     "start_time": "2023-07-07T05:33:54.907443Z"
    }
   },
   "outputs": [
    {
     "name": "stderr",
     "output_type": "stream",
     "text": [
      "100%|##########| 8774/8774 [00:04<00:00, 2047.14it/s]\n"
     ]
    },
    {
     "data": {
      "text/plain": [
       "['mp_example/scs_x2.data']"
      ]
     },
     "execution_count": 12,
     "metadata": {},
     "output_type": "execute_result"
    }
   ],
   "source": [
    "X2 = mp_car.batch_transform(df_pca.values,scale_method = 'minmax')\n",
    "dump(X2,'mp_example/scs_x2.data')"
   ]
  },
  {
   "cell_type": "code",
   "execution_count": 13,
   "id": "189aadb2",
   "metadata": {
    "ExecuteTime": {
     "end_time": "2023-07-07T05:34:03.625746Z",
     "start_time": "2023-07-07T05:34:03.366709Z"
    }
   },
   "outputs": [],
   "source": [
    "X1 = load('mp_example/scs_x1.data')\n",
    "X2 = load('mp_example/scs_x2.data')"
   ]
  },
  {
   "cell_type": "code",
   "execution_count": 14,
   "id": "07855f64",
   "metadata": {
    "ExecuteTime": {
     "end_time": "2023-07-07T05:34:04.250933Z",
     "start_time": "2023-07-07T05:34:04.240988Z"
    }
   },
   "outputs": [
    {
     "data": {
      "text/plain": [
       "array([[1, 0],\n",
       "       [1, 0],\n",
       "       [1, 0],\n",
       "       ...,\n",
       "       [0, 1],\n",
       "       [0, 1],\n",
       "       [0, 1]], dtype=uint8)"
      ]
     },
     "execution_count": 14,
     "metadata": {},
     "output_type": "execute_result"
    }
   ],
   "source": [
    "Y = pd.get_dummies(df['label']).values\n",
    "Y"
   ]
  },
  {
   "cell_type": "code",
   "execution_count": 15,
   "id": "6d548df8",
   "metadata": {
    "ExecuteTime": {
     "end_time": "2023-07-07T05:34:05.939940Z",
     "start_time": "2023-07-07T05:34:05.935394Z"
    }
   },
   "outputs": [],
   "source": [
    "from utils.dscarnet import dual_dscarnet\n"
   ]
  },
  {
   "cell_type": "markdown",
   "id": "9a8008b7",
   "metadata": {},
   "source": [
    "## model training"
   ]
  },
  {
   "cell_type": "code",
   "execution_count": 17,
   "id": "a0aa2762",
   "metadata": {
    "ExecuteTime": {
     "end_time": "2023-07-07T05:35:14.920698Z",
     "start_time": "2023-07-07T05:34:44.101319Z"
    },
    "scrolled": true
   },
   "outputs": [
    {
     "name": "stdout",
     "output_type": "stream",
     "text": [
      "Epoch 1/10\n",
      "55/55 [==============================] - 5s 58ms/step - loss: 12.9136 - accuracy: 0.6220 - val_loss: 11.2656 - val_accuracy: 0.6222\n",
      "Epoch 2/10\n",
      "55/55 [==============================] - 3s 49ms/step - loss: 10.1425 - accuracy: 0.6220 - val_loss: 9.0764 - val_accuracy: 0.6222\n",
      "Epoch 3/10\n",
      "55/55 [==============================] - 3s 49ms/step - loss: 8.1886 - accuracy: 0.7481 - val_loss: 7.3391 - val_accuracy: 0.8923\n",
      "Epoch 4/10\n",
      "55/55 [==============================] - 3s 49ms/step - loss: 6.7061 - accuracy: 0.8903 - val_loss: 6.1090 - val_accuracy: 0.8798\n",
      "Epoch 5/10\n",
      "55/55 [==============================] - 3s 49ms/step - loss: 5.5942 - accuracy: 0.9228 - val_loss: 5.1105 - val_accuracy: 0.9459\n",
      "Epoch 6/10\n",
      "55/55 [==============================] - 3s 49ms/step - loss: 4.7372 - accuracy: 0.9461 - val_loss: 4.3682 - val_accuracy: 0.9561\n",
      "Epoch 7/10\n",
      "55/55 [==============================] - 3s 50ms/step - loss: 4.1021 - accuracy: 0.9414 - val_loss: 3.7999 - val_accuracy: 0.9550\n",
      "Epoch 8/10\n",
      "55/55 [==============================] - 3s 54ms/step - loss: 3.5590 - accuracy: 0.9584 - val_loss: 3.4268 - val_accuracy: 0.8963\n",
      "Epoch 9/10\n",
      "55/55 [==============================] - 3s 55ms/step - loss: 3.1629 - accuracy: 0.9449 - val_loss: 2.9608 - val_accuracy: 0.9516\n",
      "Epoch 10/10\n",
      "55/55 [==============================] - 3s 54ms/step - loss: 2.7808 - accuracy: 0.9620 - val_loss: 2.6137 - val_accuracy: 0.9681\n"
     ]
    }
   ],
   "source": [
    "outer = StratifiedKFold(n_splits = 5, shuffle = True, random_state = 8)\n",
    "outer_idx = list(outer.split(X1,df['label']))\n",
    "for i, idx in enumerate(outer_idx):\n",
    "    \n",
    "    train_idx, valid_idx = idx\n",
    "\n",
    "    validY = Y[valid_idx]\n",
    "    validX = X1[valid_idx],X2[valid_idx]\n",
    "\n",
    "    trainY = Y[train_idx]\n",
    "    trainX = X1[train_idx],X2[train_idx]\n",
    "    \n",
    "    model = dual_dscarnet(X1.shape[1:], X2.shape[1:])\n",
    "    opt = tf.keras.optimizers.Adam(lr=1e-4, beta_1=0.9, beta_2=0.999, epsilon=1e-08, decay=0.0) #\n",
    "    model.compile(optimizer = opt, loss = 'categorical_crossentropy',metrics=['accuracy'])\n",
    "\n",
    "\n",
    "    early_stopping_cb = tf.keras.callbacks.EarlyStopping(monitor=\"val_accuracy\", patience=10,#for example\n",
    "                                                      restore_best_weights=True)\n",
    "\n",
    "    model.fit(trainX, trainY,\n",
    "                              batch_size=128, \n",
    "                              epochs= 10,#for example \n",
    "                                verbose= 1, shuffle = True, \n",
    "                              validation_data = (validX, validY), \n",
    "                               callbacks=[early_stopping_cb],)\n",
    "    break#for example"
   ]
  },
  {
   "cell_type": "code",
   "execution_count": null,
   "id": "bf189dd4",
   "metadata": {},
   "outputs": [],
   "source": []
  }
 ],
 "metadata": {
  "kernelspec": {
   "display_name": "aggmap",
   "language": "python",
   "name": "aggmap"
  },
  "language_info": {
   "codemirror_mode": {
    "name": "ipython",
    "version": 3
   },
   "file_extension": ".py",
   "mimetype": "text/x-python",
   "name": "python",
   "nbconvert_exporter": "python",
   "pygments_lexer": "ipython3",
   "version": "3.7.13"
  },
  "toc": {
   "base_numbering": 1,
   "nav_menu": {},
   "number_sections": true,
   "sideBar": true,
   "skip_h1_title": false,
   "title_cell": "Table of Contents",
   "title_sidebar": "Contents",
   "toc_cell": false,
   "toc_position": {},
   "toc_section_display": true,
   "toc_window_display": false
  }
 },
 "nbformat": 4,
 "nbformat_minor": 5
}
